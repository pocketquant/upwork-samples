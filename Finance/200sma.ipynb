{
 "cells": [
  {
   "attachments": {},
   "cell_type": "markdown",
   "metadata": {},
   "source": [
    "request : give me a live trading algo in python that buys when the daily close crosses over over the 200 day moving average"
   ]
  },
  {
   "attachments": {},
   "cell_type": "markdown",
   "metadata": {},
   "source": [
    "Here's some sample code that implements a live trading algorithm in Python using the ccxt library to access market data from an exchange, and the ta (technical analysis) library to calculate the 200-day moving average:\n",
    "\n",
    "This code connects to the Binance exchange using your API keys, fetches historical OHLCV (Open-High-Low-Close-Volume) data for the BTC/USDT symbol at a daily timeframe, and calculates the 200-day moving average using the SMAIndicator class from the ta library.\n",
    "\n",
    "The code then enters a loop that checks the current price of BTC/USDT every few seconds. If the current price is above the 200-day moving average, the code creates a market order to buy 0.001 BTC and prints the order details.\n",
    "\n",
    " other factors to consider when developing a live trading algorithm, such as risk management, position sizing, and portfolio diversificatio"
   ]
  },
  {
   "cell_type": "code",
   "execution_count": null,
   "metadata": {},
   "outputs": [],
   "source": [
    "import ccxt\n",
    "import ta\n",
    "\n",
    "exchange = ccxt.binance({\n",
    "    'apiKey': 'YOUR_API_KEY',\n",
    "    'secret': 'YOUR_SECRET_KEY',\n",
    "})\n",
    "\n",
    "symbol = 'BTC/USDT'\n",
    "timeframe = '1d'\n",
    "\n",
    "# Fetch historical data\n",
    "bars = exchange.fetch_ohlcv(symbol, timeframe)\n",
    "df = ccxt.Exchange.convert_ohlcv_to_trading_view(bars)\n",
    "\n",
    "# Calculate 200-day moving average\n",
    "df['ma200'] = ta.trend.SMAIndicator(df['close'], window=200).sma_indicator()\n",
    "\n",
    "# Wait for a cross above the 200-day moving average\n",
    "while True:\n",
    "    current_bar = exchange.fetch_ohlcv(symbol, timeframe)[-1]\n",
    "    current_price = current_bar[4]  # Close price\n",
    "    if current_price > df['ma200'].iloc[-1]:\n",
    "        order = exchange.create_market_buy_order(symbol, 0.001)  # Buy 0.001 BTC\n",
    "        print(order)\n",
    "        break\n"
   ]
  }
 ],
 "metadata": {
  "language_info": {
   "name": "python"
  },
  "orig_nbformat": 4
 },
 "nbformat": 4,
 "nbformat_minor": 2
}
