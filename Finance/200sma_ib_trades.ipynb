{
 "cells": [
  {
   "attachments": {},
   "cell_type": "markdown",
   "metadata": {},
   "source": [
    " a live trading algo in python that buys when the daily close crosses over over the 200 day moving average routed to the 'interactive brokers' api"
   ]
  },
  {
   "cell_type": "code",
   "execution_count": 1,
   "metadata": {},
   "outputs": [
    {
     "ename": "SyntaxError",
     "evalue": "EOL while scanning string literal (2075105821.py, line 78)",
     "output_type": "error",
     "traceback": [
      "\u001b[1;36m  Input \u001b[1;32mIn [1]\u001b[1;36m\u001b[0m\n\u001b[1;33m    order.action = \"BUY\u001b[0m\n\u001b[1;37m                       ^\u001b[0m\n\u001b[1;31mSyntaxError\u001b[0m\u001b[1;31m:\u001b[0m EOL while scanning string literal\n"
     ]
    }
   ],
   "source": [
    "import ibapi.wrapper as wrapper\n",
    "import ibapi.client as client\n",
    "import ibapi.contract as contract\n",
    "import ibapi.order as order\n",
    "import time\n",
    "import pandas as pd\n",
    "import talib\n",
    "\n",
    "# Define a class that inherits from the EWrapper and EClient classes\n",
    "class TestApp(wrapper.EWrapper, client.EClient):\n",
    "    def __init__(self):\n",
    "        # Call the __init__ methods of the base classes\n",
    "        wrapper.EWrapper.__init__(self)\n",
    "        client.EClient.__init__(self, wrapper=self)\n",
    "\n",
    "        # Define the contract details for the stock we want to trade\n",
    "        self.symbol = \"AAPL\"\n",
    "        self.exchange = \"SMART\"\n",
    "        self.currency = \"USD\"\n",
    "        self.sec_type = \"STK\"\n",
    "        self.con = contract.Contract()\n",
    "        self.con.symbol = self.symbol\n",
    "        self.con.exchange = self.exchange\n",
    "        self.con.currency = self.currency\n",
    "        self.con.secType = self.sec_type\n",
    "\n",
    "        # Initialize variables to store the current price and 200-day moving average\n",
    "        self.current_price = None\n",
    "        self.ma200 = None\n",
    "\n",
    "        # Connect to the Interactive Brokers TWS trading platform\n",
    "        self.connect(\"127.0.0.1\", 7497, clientId=0)\n",
    "\n",
    "    # Override the nextValidId method to request market data for the contract\n",
    "    def nextValidId(self, orderId: int):\n",
    "        super().nextValidId(orderId)\n",
    "\n",
    "        # Request real-time market data\n",
    "        self.reqMarketDataType(1)\n",
    "        self.reqMktData(1, self.con, \"\", False, False, [])\n",
    "\n",
    "    # Override the tickPrice method to update the current price and place a buy order if the price crosses over the 200-day moving average\n",
    "    def tickPrice(self, reqId: int, tickType: int, price: float, attrib):\n",
    "        super().tickPrice(reqId, tickType, price, attrib)\n",
    "\n",
    "        if tickType == 4 and reqId == 1:\n",
    "            # Update the current price\n",
    "            self.current_price = price\n",
    "\n",
    "            # Place a buy order if the current price crosses over the 200-day moving average\n",
    "            if self.ma200 is not None and self.current_price > self.ma200:\n",
    "                self.place_order()\n",
    "\n",
    "    # Override the historicalData method to store historical data for the contract\n",
    "    def historicalData(self, reqId: int, bar):\n",
    "        super().historicalData(reqId, bar)\n",
    "\n",
    "        if reqId == 1:\n",
    "            # Create a new dataframe to store the historical data\n",
    "            self.df = pd.DataFrame(columns=[\"Date\", \"Open\", \"High\", \"Low\", \"Close\", \"Volume\"])\n",
    "            self.df.loc[bar.date] = [bar.open, bar.high, bar.low, bar.close, bar.volume]\n",
    "\n",
    "    # Override the historicalDataEnd method to calculate the 200-day moving average from the historical data\n",
    "    def historicalDataEnd(self, reqId: int, start: str, end: str):\n",
    "        super().historicalDataEnd(reqId, start, end)\n",
    "\n",
    "        if reqId == 1:\n",
    "            # Set the index of the dataframe to the date column and calculate the 200-day moving average\n",
    "            self.df.set_index(\"Date\", inplace=True)\n",
    "            self.ma200 = talib.SMA(self.df[\"Close\"], timeperiod=200)[-1]\n",
    "\n",
    "    # Define a method to place a buy order for the contract\n",
    "    def place_order(self):\n",
    "        # Generate a unique order ID\n",
    "        self.nextOrderId += 1\n",
    "        # Create a new order object with the desired properties\n",
    "        order = ibapi.order.Order()\n",
    "        order.action = \"BUY\n"
   ]
  },
  {
   "cell_type": "markdown",
   "metadata": {},
   "source": []
  }
 ],
 "metadata": {
  "kernelspec": {
   "display_name": "Python 3",
   "language": "python",
   "name": "python3"
  },
  "language_info": {
   "codemirror_mode": {
    "name": "ipython",
    "version": 3
   },
   "file_extension": ".py",
   "mimetype": "text/x-python",
   "name": "python",
   "nbconvert_exporter": "python",
   "pygments_lexer": "ipython3",
   "version": "3.9.13 (tags/v3.9.13:6de2ca5, May 17 2022, 16:36:42) [MSC v.1929 64 bit (AMD64)]"
  },
  "orig_nbformat": 4,
  "vscode": {
   "interpreter": {
    "hash": "9b54d6a16add27ca2e677aa06196fc1ec2f82f9925cd5147b5e0b38cd001f612"
   }
  }
 },
 "nbformat": 4,
 "nbformat_minor": 2
}
