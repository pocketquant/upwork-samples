{
 "cells": [
  {
   "attachments": {},
   "cell_type": "markdown",
   "metadata": {},
   "source": [
    "Hi pretty easy python task\n",
    "\n",
    "so my main document will be like that\n",
    "file1.txt :\n",
    "@username1\n",
    "@username2\n",
    "@username3\n",
    "@username4\n",
    "@username5\n",
    "@username6\n",
    "@username7\n",
    "@username8\n",
    "@username9\n",
    "@username10\n",
    "\n",
    "i want output like that\n",
    "file2.txt\n",
    "@username1 @username2 @username3 /backtoline\n",
    "@username4 @username5 @username6 /backtoline\n",
    "@username7 @username8 @username9 /backtoline\n",
    "\n",
    "so each 3 lines on file1.txt document go to 1 line on file2.txt document"
   ]
  },
  {
   "cell_type": "code",
   "execution_count": 1,
   "metadata": {},
   "outputs": [],
   "source": [
    "with open(\"file1.txt\", \"r\") as f1, open(\"file2.txt\", \"w\") as f2:\n",
    "    lines = f1.readlines()\n",
    "    for i in range(0, len(lines), 3):\n",
    "        group = lines[i:i+3]\n",
    "        f2.write(\" \".join(group).strip() + \" /backtoline\\n\")\n"
   ]
  },
  {
   "cell_type": "code",
   "execution_count": 2,
   "metadata": {},
   "outputs": [],
   "source": [
    "with open('file1.txt', 'r') as f1, open('file2.txt', 'w') as f2:\n",
    "    usernames = [line.strip() for line in f1.readlines()]\n",
    "    for i in range(0, len(usernames), 3):\n",
    "        f2.write(' '.join(usernames[i:i+3]))\n",
    "        f2.write(' /backtoline\\n')\n"
   ]
  },
  {
   "cell_type": "code",
   "execution_count": null,
   "metadata": {},
   "outputs": [],
   "source": []
  }
 ],
 "metadata": {
  "kernelspec": {
   "display_name": "Python 3",
   "language": "python",
   "name": "python3"
  },
  "language_info": {
   "codemirror_mode": {
    "name": "ipython",
    "version": 3
   },
   "file_extension": ".py",
   "mimetype": "text/x-python",
   "name": "python",
   "nbconvert_exporter": "python",
   "pygments_lexer": "ipython3",
   "version": "3.9.13"
  },
  "orig_nbformat": 4,
  "vscode": {
   "interpreter": {
    "hash": "9b54d6a16add27ca2e677aa06196fc1ec2f82f9925cd5147b5e0b38cd001f612"
   }
  }
 },
 "nbformat": 4,
 "nbformat_minor": 2
}
