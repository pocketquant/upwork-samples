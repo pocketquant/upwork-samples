{
 "cells": [
  {
   "cell_type": "code",
   "execution_count": 3,
   "metadata": {},
   "outputs": [
    {
     "name": "stdout",
     "output_type": "stream",
     "text": [
      "Collecting polars\n",
      "  Using cached polars-0.15.6-cp37-abi3-win_amd64.whl (15.4 MB)\n",
      "Requirement already satisfied: typing_extensions>=4.0.0 in c:\\users\\jes\\anaconda3\\lib\\site-packages (from polars) (4.3.0)\n",
      "Installing collected packages: polars\n",
      "Successfully installed polars-0.15.6\n"
     ]
    }
   ],
   "source": [
    "\n",
    "\n",
    "# pip install 'polars[all]'\n",
    "# install --upgrade pip\n",
    "!pip install polars\n"
   ]
  },
  {
   "cell_type": "code",
   "execution_count": 12,
   "metadata": {},
   "outputs": [
    {
     "ename": "ComputeError",
     "evalue": "strict conversion to dates failed, maybe set strict=False",
     "output_type": "error",
     "traceback": [
      "\u001b[1;31m---------------------------------------------------------------------------\u001b[0m",
      "\u001b[1;31mComputeError\u001b[0m                              Traceback (most recent call last)",
      "\u001b[1;32md:\\Code\\code_sandbox_jupyter\\polars.ipynb Cell 2\u001b[0m in \u001b[0;36m<cell line: 24>\u001b[1;34m()\u001b[0m\n\u001b[0;32m      <a href='vscode-notebook-cell:/d%3A/Code/code_sandbox_jupyter/polars.ipynb#W1sZmlsZQ%3D%3D?line=5'>6</a>\u001b[0m df \u001b[39m=\u001b[39m df\u001b[39m.\u001b[39mwith_columns([\n\u001b[0;32m      <a href='vscode-notebook-cell:/d%3A/Code/code_sandbox_jupyter/polars.ipynb#W1sZmlsZQ%3D%3D?line=6'>7</a>\u001b[0m     (pl\u001b[39m.\u001b[39mcol(\u001b[39m\"\u001b[39m\u001b[39mprice\u001b[39m\u001b[39m\"\u001b[39m) \u001b[39m*\u001b[39mpl\u001b[39m.\u001b[39mcol(\u001b[39m\"\u001b[39m\u001b[39msize\u001b[39m\u001b[39m\"\u001b[39m))\u001b[39m.\u001b[39malias(\u001b[39m\"\u001b[39m\u001b[39mdollar_volume\u001b[39m\u001b[39m\"\u001b[39m),\n\u001b[0;32m      <a href='vscode-notebook-cell:/d%3A/Code/code_sandbox_jupyter/polars.ipynb#W1sZmlsZQ%3D%3D?line=7'>8</a>\u001b[0m     \u001b[39m# (pl.col(\"value\") * 100).alias(\"hundredXValue\"),\u001b[39;00m\n\u001b[0;32m      <a href='vscode-notebook-cell:/d%3A/Code/code_sandbox_jupyter/polars.ipynb#W1sZmlsZQ%3D%3D?line=8'>9</a>\u001b[0m ])\n\u001b[0;32m     <a href='vscode-notebook-cell:/d%3A/Code/code_sandbox_jupyter/polars.ipynb#W1sZmlsZQ%3D%3D?line=9'>10</a>\u001b[0m \u001b[39m# max_dollar_volume = df.select(pl.col(\"dollar_volume\").max()) \u001b[39;00m\n\u001b[0;32m     <a href='vscode-notebook-cell:/d%3A/Code/code_sandbox_jupyter/polars.ipynb#W1sZmlsZQ%3D%3D?line=10'>11</a>\u001b[0m \n\u001b[0;32m     <a href='vscode-notebook-cell:/d%3A/Code/code_sandbox_jupyter/polars.ipynb#W1sZmlsZQ%3D%3D?line=11'>12</a>\u001b[0m \u001b[39m# custom_bins = [0, 500,1000,5000,10000,20000,50000, 100000,200000, 500000,1000000, 5000000, 10000000,100000000,500000000,max_dollar_volume]\u001b[39;00m\n\u001b[1;32m   (...)\u001b[0m\n\u001b[0;32m     <a href='vscode-notebook-cell:/d%3A/Code/code_sandbox_jupyter/polars.ipynb#W1sZmlsZQ%3D%3D?line=21'>22</a>\u001b[0m \u001b[39m# df = q.collect()\u001b[39;00m\n\u001b[0;32m     <a href='vscode-notebook-cell:/d%3A/Code/code_sandbox_jupyter/polars.ipynb#W1sZmlsZQ%3D%3D?line=22'>23</a>\u001b[0m \u001b[39m# df\u001b[39;00m\n\u001b[1;32m---> <a href='vscode-notebook-cell:/d%3A/Code/code_sandbox_jupyter/polars.ipynb#W1sZmlsZQ%3D%3D?line=23'>24</a>\u001b[0m df\u001b[39m.\u001b[39;49mwith_column(pl\u001b[39m.\u001b[39;49mcol(\u001b[39m\"\u001b[39;49m\u001b[39mtimestamp\u001b[39;49m\u001b[39m\"\u001b[39;49m)\u001b[39m.\u001b[39;49mstr\u001b[39m.\u001b[39;49mstrptime(pl\u001b[39m.\u001b[39;49mDate, fmt\u001b[39m=\u001b[39;49m\u001b[39m\"\u001b[39;49m\u001b[39m%\u001b[39;49m\u001b[39mY-\u001b[39;49m\u001b[39m%\u001b[39;49m\u001b[39mm-\u001b[39;49m\u001b[39m%d\u001b[39;49;00m\u001b[39m \u001b[39;49m\u001b[39m%\u001b[39;49m\u001b[39mH:\u001b[39;49m\u001b[39m%\u001b[39;49m\u001b[39mM:\u001b[39;49m\u001b[39m%\u001b[39;49m\u001b[39mS.\u001b[39;49m\u001b[39m%f\u001b[39;49;00m\u001b[39m%\u001b[39;49m\u001b[39mz\u001b[39;49m\u001b[39m\"\u001b[39;49m))\n",
      "File \u001b[1;32mc:\\Users\\JES\\anaconda3\\lib\\site-packages\\polars\\internals\\dataframe\\frame.py:4300\u001b[0m, in \u001b[0;36mDataFrame.with_column\u001b[1;34m(self, column)\u001b[0m\n\u001b[0;32m   4255\u001b[0m \u001b[39mdef\u001b[39;00m \u001b[39mwith_column\u001b[39m(\u001b[39mself\u001b[39m, column: pli\u001b[39m.\u001b[39mSeries \u001b[39m|\u001b[39m pli\u001b[39m.\u001b[39mExpr) \u001b[39m-\u001b[39m\u001b[39m>\u001b[39m DataFrame:\n\u001b[0;32m   4256\u001b[0m     \u001b[39m\"\"\"\u001b[39;00m\n\u001b[0;32m   4257\u001b[0m \u001b[39m    Return a new DataFrame with the column added or replaced.\u001b[39;00m\n\u001b[0;32m   4258\u001b[0m \n\u001b[1;32m   (...)\u001b[0m\n\u001b[0;32m   4298\u001b[0m \n\u001b[0;32m   4299\u001b[0m \u001b[39m    \"\"\"\u001b[39;00m\n\u001b[1;32m-> 4300\u001b[0m     \u001b[39mreturn\u001b[39;00m \u001b[39mself\u001b[39;49m\u001b[39m.\u001b[39;49mlazy()\u001b[39m.\u001b[39;49mwith_column(column)\u001b[39m.\u001b[39;49mcollect(no_optimization\u001b[39m=\u001b[39;49m\u001b[39mTrue\u001b[39;49;00m)\n",
      "File \u001b[1;32mc:\\Users\\JES\\anaconda3\\lib\\site-packages\\polars\\utils.py:329\u001b[0m, in \u001b[0;36mdeprecated_alias.<locals>.deco.<locals>.wrapper\u001b[1;34m(*args, **kwargs)\u001b[0m\n\u001b[0;32m    326\u001b[0m \u001b[39m@functools\u001b[39m\u001b[39m.\u001b[39mwraps(fn)\n\u001b[0;32m    327\u001b[0m \u001b[39mdef\u001b[39;00m \u001b[39mwrapper\u001b[39m(\u001b[39m*\u001b[39margs: P\u001b[39m.\u001b[39margs, \u001b[39m*\u001b[39m\u001b[39m*\u001b[39mkwargs: P\u001b[39m.\u001b[39mkwargs) \u001b[39m-\u001b[39m\u001b[39m>\u001b[39m T:\n\u001b[0;32m    328\u001b[0m     _rename_kwargs(fn\u001b[39m.\u001b[39m\u001b[39m__name__\u001b[39m, kwargs, aliases)\n\u001b[1;32m--> 329\u001b[0m     \u001b[39mreturn\u001b[39;00m fn(\u001b[39m*\u001b[39margs, \u001b[39m*\u001b[39m\u001b[39m*\u001b[39mkwargs)\n",
      "File \u001b[1;32mc:\\Users\\JES\\anaconda3\\lib\\site-packages\\polars\\internals\\lazyframe\\frame.py:1168\u001b[0m, in \u001b[0;36mLazyFrame.collect\u001b[1;34m(self, type_coercion, predicate_pushdown, projection_pushdown, simplify_expression, no_optimization, slice_pushdown, common_subplan_elimination, streaming)\u001b[0m\n\u001b[0;32m   1157\u001b[0m     common_subplan_elimination \u001b[39m=\u001b[39m \u001b[39mFalse\u001b[39;00m\n\u001b[0;32m   1159\u001b[0m ldf \u001b[39m=\u001b[39m \u001b[39mself\u001b[39m\u001b[39m.\u001b[39m_ldf\u001b[39m.\u001b[39moptimization_toggle(\n\u001b[0;32m   1160\u001b[0m     type_coercion,\n\u001b[0;32m   1161\u001b[0m     predicate_pushdown,\n\u001b[1;32m   (...)\u001b[0m\n\u001b[0;32m   1166\u001b[0m     streaming,\n\u001b[0;32m   1167\u001b[0m )\n\u001b[1;32m-> 1168\u001b[0m \u001b[39mreturn\u001b[39;00m pli\u001b[39m.\u001b[39mwrap_df(ldf\u001b[39m.\u001b[39;49mcollect())\n",
      "\u001b[1;31mComputeError\u001b[0m: strict conversion to dates failed, maybe set strict=False"
     ]
    }
   ],
   "source": [
    "import polars as pl\n",
    "# D:\\Code\\code_sandbox_jupyter\\csv\\RAW_1Week_2022_10_24to29.csv\n",
    "df = pl.read_csv('csv/RAW_1Week_2022_10_24to29.csv', parse_dates=False)\n",
    "# df['dollar_volume'] = df['price']*df['size']\n",
    "\n",
    "df = df.with_columns([\n",
    "    (pl.col(\"price\") *pl.col(\"size\")).alias(\"dollar_volume\"),\n",
    "    # (pl.col(\"value\") * 100).alias(\"hundredXValue\"),\n",
    "])\n",
    "# max_dollar_volume = df.select(pl.col(\"dollar_volume\").max()) \n",
    "\n",
    "# custom_bins = [0, 500,1000,5000,10000,20000,50000, 100000,200000, 500000,1000000, 5000000, 10000000,100000000,500000000,max_dollar_volume]\n",
    "\n",
    "# pl.cut('dollar_volume', bins=custom_bins)\n",
    "# df\n",
    "# df.select(pl.col(\"dollar_volume\").max()) \n",
    "# df\n",
    "# df.with_column(pl.col('timestamp').str.strptime(pl.Date, fmt='%d %B %Y').cast(pl.Datetime))\n",
    "\n",
    "# q = df.lazy().with_column(pl.col(\"timestamp\").str.strptime(pl.Datetime, fmt='%Y-%m-%d %H:%M:%S.%f%z'))\n",
    "\n",
    "# df = q.collect()\n",
    "# df\n",
    "df.with_column(pl.col(\"timestamp\").str.strptime(pl.Date, fmt=\"%Y-%m-%d %H:%M:%S.%f%z\"))\n",
    "# print(df)"
   ]
  },
  {
   "cell_type": "code",
   "execution_count": 11,
   "metadata": {},
   "outputs": [
    {
     "data": {
      "text/plain": [
       "datetime.datetime(2022, 10, 24, 4, 1, 0, 126000, tzinfo=datetime.timezone.utc)"
      ]
     },
     "execution_count": 11,
     "metadata": {},
     "output_type": "execute_result"
    }
   ],
   "source": [
    "from datetime import datetime\n",
    "\n",
    "date_string = '2022-10-24 04:01:00.126000+00:00'\n",
    "date_format = '%Y-%m-%d %H:%M:%S.%f%z'\n",
    "\n",
    "date = datetime.strptime(date_string, date_format)\n",
    "# print(date)  # Output: 2022-10-24 04:01:00.126000+00:00\n",
    "date\n",
    "\n"
   ]
  },
  {
   "cell_type": "code",
   "execution_count": 1,
   "metadata": {},
   "outputs": [
    {
     "data": {
      "text/plain": [
       "55500"
      ]
     },
     "execution_count": 1,
     "metadata": {},
     "output_type": "execute_result"
    }
   ],
   "source": [
    "# import sys\n",
    "# sys.path.append('D:/Code/code_sandbox_jupyter/bin_processor')\n",
    "# from bin_processor import *\n",
    "from bin_processing_copy import *\n",
    "import numpy as np \n",
    "\n",
    "# import bin_processor\n",
    "_min_int = 333*100\n",
    "_max_int =555*100\n",
    "\n",
    "_factor =50\n",
    "_bins_int = np.arange( _min_int, _max_int+50, 50 )\n",
    "bins_minima = _bins_int.min()\n",
    "bins_maxima = _bins_int.max()\n",
    "\n",
    "bins_minima = factor_floor(_factor,bins_minima)\n",
    "bins_maxima = factor_ceiling(_factor, bins_maxima)\n",
    "#  pl.cut(s_norm, breaks)\n",
    "#     .groupby('category')\n",
    "\n",
    "#     .count()\n",
    "#     .sort('category')\n",
    "\n",
    "bins_maxima"
   ]
  },
  {
   "cell_type": "code",
   "execution_count": 9,
   "metadata": {},
   "outputs": [],
   "source": [
    "import sys\n",
    "# print(sys.path)\n"
   ]
  },
  {
   "cell_type": "code",
   "execution_count": null,
   "metadata": {},
   "outputs": [],
   "source": []
  }
 ],
 "metadata": {
  "kernelspec": {
   "display_name": "Python 3.9.12 ('base')",
   "language": "python",
   "name": "python3"
  },
  "language_info": {
   "codemirror_mode": {
    "name": "ipython",
    "version": 3
   },
   "file_extension": ".py",
   "mimetype": "text/x-python",
   "name": "python",
   "nbconvert_exporter": "python",
   "pygments_lexer": "ipython3",
   "version": "3.9.12"
  },
  "orig_nbformat": 4,
  "vscode": {
   "interpreter": {
    "hash": "857c36795199e52afd020a063c8ab5516480f7795df72ca05453daa618d0fc39"
   }
  }
 },
 "nbformat": 4,
 "nbformat_minor": 2
}
