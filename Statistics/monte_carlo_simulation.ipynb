{
 "cells": [
  {
   "cell_type": "code",
   "execution_count": 8,
   "metadata": {},
   "outputs": [
    {
     "name": "stdout",
     "output_type": "stream",
     "text": [
      "Final capital: 98007.12\n"
     ]
    }
   ],
   "source": [
    "import numpy as np\n",
    "\n",
    "# initial capital\n",
    "capital = 100000\n",
    "\n",
    "# number of trades\n",
    "n_trades = 5*52\n",
    "\n",
    "# success rate\n",
    "success_rate = 0.5\n",
    "\n",
    "# risk per trade as a percentage of capital\n",
    "risk_pct = 0.02\n",
    "\n",
    "# profit/loss multiplier on successful/unsuccessful trades\n",
    "profit_multiplier = 0.05\n",
    "loss_multiplier = 0.05\n",
    "\n",
    "# create array to store results\n",
    "results = np.zeros(n_trades)\n",
    "\n",
    "# simulate trades\n",
    "for i in range(n_trades):\n",
    "    # determine if trade is successful\n",
    "    if np.random.random() < success_rate:\n",
    "        # calculate profit\n",
    "        results[i] = capital * profit_multiplier * risk_pct\n",
    "    else:\n",
    "        # calculate loss\n",
    "        results[i] = -capital * loss_multiplier * risk_pct\n",
    "    \n",
    "    # update capital based on trade result\n",
    "    capital += results[i]\n",
    "\n",
    "# print final capital\n",
    "print(f'Final capital: {capital:.2f}')"
   ]
  },
  {
   "cell_type": "markdown",
   "metadata": {},
   "source": [
    "# Small Cap Profitability"
   ]
  },
  {
   "cell_type": "code",
   "execution_count": 15,
   "metadata": {},
   "outputs": [
    {
     "name": "stdout",
     "output_type": "stream",
     "text": [
      "Final capital: 79344588.74\n"
     ]
    }
   ],
   "source": [
    "import numpy as np\n",
    "\n",
    "# initial capital\n",
    "capital = 50000\n",
    "\n",
    "# number of trades\n",
    "n_trades = 5*52*3\n",
    "\n",
    "# success rate\n",
    "success_rate = 0.7\n",
    "\n",
    "# risk per trade as a percentage of capital\n",
    "risk_pct = 0.05\n",
    "\n",
    "# profit/loss multiplier on successful/unsuccessful trades\n",
    "profit_multiplier = 0.30\n",
    "loss_multiplier = 0.05\n",
    "\n",
    "# create array to store results\n",
    "results = np.zeros(n_trades)\n",
    "\n",
    "# simulate trades\n",
    "for i in range(n_trades):\n",
    "    # determine if trade is successful\n",
    "    if np.random.random() < success_rate:\n",
    "        # calculate profit\n",
    "        results[i] = capital * profit_multiplier * risk_pct\n",
    "    else:\n",
    "        # calculate loss\n",
    "        results[i] = -capital * loss_multiplier * risk_pct\n",
    "    \n",
    "    # update capital based on trade result\n",
    "    capital += results[i]\n",
    "\n",
    "# print final capital\n",
    "print(f'Final capital: {capital:.2f}')"
   ]
  },
  {
   "cell_type": "code",
   "execution_count": null,
   "metadata": {},
   "outputs": [],
   "source": []
  }
 ],
 "metadata": {
  "kernelspec": {
   "display_name": "Python 3.9.12 ('base')",
   "language": "python",
   "name": "python3"
  },
  "language_info": {
   "codemirror_mode": {
    "name": "ipython",
    "version": 3
   },
   "file_extension": ".py",
   "mimetype": "text/x-python",
   "name": "python",
   "nbconvert_exporter": "python",
   "pygments_lexer": "ipython3",
   "version": "3.9.12"
  },
  "orig_nbformat": 4,
  "vscode": {
   "interpreter": {
    "hash": "857c36795199e52afd020a063c8ab5516480f7795df72ca05453daa618d0fc39"
   }
  }
 },
 "nbformat": 4,
 "nbformat_minor": 2
}
